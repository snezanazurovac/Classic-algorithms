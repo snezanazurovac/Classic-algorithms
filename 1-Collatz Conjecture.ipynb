{
 "cells": [
  {
   "cell_type": "markdown",
   "id": "middle-guarantee",
   "metadata": {},
   "source": [
    "Classic Algorithms\n",
    "\n",
    "1)Collatz Conjecture - Start with a number n > 1. \n",
    "Find the number of steps it takes to reach one using the following process: \n",
    "If n is even, divide it by 2. If n is odd, multiply it by 3 and add 1.\n",
    "\n",
    "2)Sorting - Implement two types of sorting algorithms: Merge sort and bubble sort.\n",
    "\n",
    "3)Closest pair problem - The closest pair of points problem or closest pair problem is \n",
    "a problem of computational geometry: given n points in metric space, \n",
    "find a pair of points with the smallest distance between them.\n",
    "\n",
    "4)Sieve of Eratosthenes - The sieve of Eratosthenes is one of the most efficient ways to \n",
    "find all of the smaller primes (below 10 million or so)."
   ]
  },
  {
   "cell_type": "markdown",
   "id": "focused-function",
   "metadata": {},
   "source": [
    "1)Collatz Conjecture - Start with a number n > 1."
   ]
  },
  {
   "cell_type": "code",
   "execution_count": 5,
   "id": "korean-lender",
   "metadata": {},
   "outputs": [],
   "source": [
    "def even(n):\n",
    "    if n%2==0:\n",
    "        return True\n",
    "    else:\n",
    "        return False"
   ]
  },
  {
   "cell_type": "code",
   "execution_count": 20,
   "id": "continent-tyler",
   "metadata": {},
   "outputs": [],
   "source": [
    "# function that count number of stpes to get number 1\n",
    "def number_steps():\n",
    "    n=int(input(\"Please input number greater than 1 = \"))\n",
    "    i=0\n",
    "    while n!=1:\n",
    "        i+=1\n",
    "        if even(n):\n",
    "            n=n/2\n",
    "            print(n)\n",
    "        else:\n",
    "            n=n*3+1\n",
    "            print(n)\n",
    "    if n==1:\n",
    "        return i"
   ]
  },
  {
   "cell_type": "code",
   "execution_count": 21,
   "id": "colonial-zimbabwe",
   "metadata": {},
   "outputs": [
    {
     "name": "stdout",
     "output_type": "stream",
     "text": [
      "Please input number greater than 1 = 9\n",
      "28\n",
      "14.0\n",
      "7.0\n",
      "22.0\n",
      "11.0\n",
      "34.0\n",
      "17.0\n",
      "52.0\n",
      "26.0\n",
      "13.0\n",
      "40.0\n",
      "20.0\n",
      "10.0\n",
      "5.0\n",
      "16.0\n",
      "8.0\n",
      "4.0\n",
      "2.0\n",
      "1.0\n",
      "You need 19 stpes to get number 1\n"
     ]
    }
   ],
   "source": [
    "print(\"You need {} stpes to get number 1\".format(number_steps()))"
   ]
  },
  {
   "cell_type": "code",
   "execution_count": null,
   "id": "english-magic",
   "metadata": {},
   "outputs": [],
   "source": []
  }
 ],
 "metadata": {
  "kernelspec": {
   "display_name": "Python 3",
   "language": "python",
   "name": "python3"
  },
  "language_info": {
   "codemirror_mode": {
    "name": "ipython",
    "version": 3
   },
   "file_extension": ".py",
   "mimetype": "text/x-python",
   "name": "python",
   "nbconvert_exporter": "python",
   "pygments_lexer": "ipython3",
   "version": "3.9.1"
  }
 },
 "nbformat": 4,
 "nbformat_minor": 5
}
