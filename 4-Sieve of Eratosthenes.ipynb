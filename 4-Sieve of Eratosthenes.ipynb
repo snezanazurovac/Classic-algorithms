{
 "cells": [
  {
   "cell_type": "code",
   "execution_count": null,
   "id": "tested-celebration",
   "metadata": {},
   "outputs": [],
   "source": [
    "Sieve of Eratosthenes - \n",
    "The sieve of Eratosthenes is one of the most efficient ways to find all of the smaller primes \n",
    "(below 10 million or so)."
   ]
  },
  {
   "cell_type": "code",
   "execution_count": 17,
   "id": "eastern-population",
   "metadata": {},
   "outputs": [],
   "source": [
    "def prime_numbers(n):\n",
    "    primes=[]\n",
    "    for i in range(1,n+1):\n",
    "        flag=True\n",
    "        print(i)\n",
    "        for j in range(2,i//2+1):\n",
    "            if i%j==0:\n",
    "                flag=False\n",
    "        print(flag)\n",
    "        if flag:\n",
    "            primes.append(i)\n",
    "    return primes\n",
    "        "
   ]
  },
  {
   "cell_type": "code",
   "execution_count": 18,
   "id": "starting-athens",
   "metadata": {},
   "outputs": [
    {
     "name": "stdout",
     "output_type": "stream",
     "text": [
      "1\n",
      "True\n",
      "2\n",
      "True\n",
      "3\n",
      "True\n",
      "4\n",
      "False\n",
      "5\n",
      "True\n",
      "6\n",
      "False\n",
      "7\n",
      "True\n",
      "8\n",
      "False\n",
      "9\n",
      "False\n",
      "10\n",
      "False\n"
     ]
    },
    {
     "data": {
      "text/plain": [
       "[1, 2, 3, 5, 7]"
      ]
     },
     "execution_count": 18,
     "metadata": {},
     "output_type": "execute_result"
    }
   ],
   "source": [
    "prime_numbers(10)"
   ]
  },
  {
   "cell_type": "code",
   "execution_count": null,
   "id": "large-things",
   "metadata": {},
   "outputs": [],
   "source": []
  },
  {
   "cell_type": "code",
   "execution_count": null,
   "id": "sweet-representative",
   "metadata": {},
   "outputs": [],
   "source": []
  }
 ],
 "metadata": {
  "kernelspec": {
   "display_name": "Python 3",
   "language": "python",
   "name": "python3"
  },
  "language_info": {
   "codemirror_mode": {
    "name": "ipython",
    "version": 3
   },
   "file_extension": ".py",
   "mimetype": "text/x-python",
   "name": "python",
   "nbconvert_exporter": "python",
   "pygments_lexer": "ipython3",
   "version": "3.9.1"
  }
 },
 "nbformat": 4,
 "nbformat_minor": 5
}
