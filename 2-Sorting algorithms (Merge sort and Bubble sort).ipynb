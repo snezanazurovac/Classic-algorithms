{
 "cells": [
  {
   "cell_type": "markdown",
   "id": "boring-equipment",
   "metadata": {},
   "source": [
    "# 2)Sorting - Implement two types of sorting algorithms: \n",
    "    Merge sort and bubble sort."
   ]
  },
  {
   "cell_type": "code",
   "execution_count": 21,
   "id": "agreed-wheat",
   "metadata": {},
   "outputs": [],
   "source": [
    "def mergeSort(alist):\n",
    "    \n",
    "    print(\"Splitting \",alist)\n",
    "    if len(alist)>1:\n",
    "        mid = len(alist)//2\n",
    "        lefthalf = alist[:mid]\n",
    "        righthalf = alist[mid:]\n",
    "\n",
    "        mergeSort(lefthalf)\n",
    "        mergeSort(righthalf)\n",
    "\n",
    "        i=0\n",
    "        j=0\n",
    "        k=0\n",
    "        print('left,{}'.format(lefthalf))\n",
    "        print('right,{}'.format(righthalf))\n",
    "        while i < len(lefthalf) and j < len(righthalf):\n",
    "            if lefthalf[i] < righthalf[j]:\n",
    "                alist[k]=lefthalf[i]\n",
    "                i=i+1\n",
    "                print('i={}'.format(i))\n",
    "            else:\n",
    "                alist[k]=righthalf[j]\n",
    "                print(alist)\n",
    "                j=j+1\n",
    "                print('j={}'.format(j))\n",
    "            k=k+1\n",
    "            print('k={}'.format(k))\n",
    "        while i < len(lefthalf):\n",
    "            alist[k]=lefthalf[i]\n",
    "            print(alist)\n",
    "            i=i+1\n",
    "            print('i={}'.format(i))\n",
    "            k=k+1\n",
    "            print('k={}'.format(k))\n",
    "        while j < len(righthalf):\n",
    "            alist[k]=righthalf[j]\n",
    "            print(alist)\n",
    "            j=j+1\n",
    "            print('j={}'.format(j))\n",
    "            k=k+1\n",
    "            print('k={}'.format(k))\n",
    "    print(\"Merging \",alist)\n",
    "\n"
   ]
  },
  {
   "cell_type": "code",
   "execution_count": 22,
   "id": "acceptable-contractor",
   "metadata": {},
   "outputs": [
    {
     "name": "stdout",
     "output_type": "stream",
     "text": [
      "Splitting  [54, 26, 93, 17, 77, 31]\n",
      "Splitting  [54, 26, 93]\n",
      "Splitting  [54]\n",
      "Merging  [54]\n",
      "Splitting  [26, 93]\n",
      "Splitting  [26]\n",
      "Merging  [26]\n",
      "Splitting  [93]\n",
      "Merging  [93]\n",
      "left,[26]\n",
      "right,[93]\n",
      "i=1\n",
      "k=1\n",
      "[26, 93]\n",
      "j=1\n",
      "k=2\n",
      "Merging  [26, 93]\n",
      "left,[54]\n",
      "right,[26, 93]\n",
      "[26, 26, 93]\n",
      "j=1\n",
      "k=1\n",
      "i=1\n",
      "k=2\n",
      "[26, 54, 93]\n",
      "j=2\n",
      "k=3\n",
      "Merging  [26, 54, 93]\n",
      "Splitting  [17, 77, 31]\n",
      "Splitting  [17]\n",
      "Merging  [17]\n",
      "Splitting  [77, 31]\n",
      "Splitting  [77]\n",
      "Merging  [77]\n",
      "Splitting  [31]\n",
      "Merging  [31]\n",
      "left,[77]\n",
      "right,[31]\n",
      "[31, 31]\n",
      "j=1\n",
      "k=1\n",
      "[31, 77]\n",
      "i=1\n",
      "k=2\n",
      "Merging  [31, 77]\n",
      "left,[17]\n",
      "right,[31, 77]\n",
      "i=1\n",
      "k=1\n",
      "[17, 31, 31]\n",
      "j=1\n",
      "k=2\n",
      "[17, 31, 77]\n",
      "j=2\n",
      "k=3\n",
      "Merging  [17, 31, 77]\n",
      "left,[26, 54, 93]\n",
      "right,[17, 31, 77]\n",
      "[17, 26, 93, 17, 77, 31]\n",
      "j=1\n",
      "k=1\n",
      "i=1\n",
      "k=2\n",
      "[17, 26, 31, 17, 77, 31]\n",
      "j=2\n",
      "k=3\n",
      "i=2\n",
      "k=4\n",
      "[17, 26, 31, 54, 77, 31]\n",
      "j=3\n",
      "k=5\n",
      "[17, 26, 31, 54, 77, 93]\n",
      "i=3\n",
      "k=6\n",
      "Merging  [17, 26, 31, 54, 77, 93]\n",
      "[17, 26, 31, 54, 77, 93]\n"
     ]
    }
   ],
   "source": [
    "alist = [54,26,93,17,77,31]\n",
    "mergeSort(alist)\n",
    "print(alist)"
   ]
  },
  {
   "cell_type": "markdown",
   "id": "forbidden-verse",
   "metadata": {},
   "source": [
    "# 2)Sorting algortms Bubble sort"
   ]
  },
  {
   "cell_type": "code",
   "execution_count": 18,
   "id": "streaming-northwest",
   "metadata": {},
   "outputs": [],
   "source": [
    "def bublesort(alist):\n",
    "    for c in range(len(alist)):\n",
    "        i=0\n",
    "        while i <len(alist)-1:\n",
    "            j=i+1\n",
    "            if alist[i]>alist[j]:\n",
    "                alist[i],alist[j]=alist[j],alist[i]\n",
    "            i=i+1\n",
    "    return(alist)\n",
    "            "
   ]
  },
  {
   "cell_type": "code",
   "execution_count": 19,
   "id": "suspended-pickup",
   "metadata": {},
   "outputs": [
    {
     "data": {
      "text/plain": [
       "[1, 4, 25, 78, 99, 147, 658, 1004]"
      ]
     },
     "execution_count": 19,
     "metadata": {},
     "output_type": "execute_result"
    }
   ],
   "source": [
    "bublesort([4,78,99,147,658,1004,1,25])"
   ]
  },
  {
   "cell_type": "code",
   "execution_count": null,
   "id": "tracked-neutral",
   "metadata": {},
   "outputs": [],
   "source": []
  }
 ],
 "metadata": {
  "kernelspec": {
   "display_name": "Python 3",
   "language": "python",
   "name": "python3"
  },
  "language_info": {
   "codemirror_mode": {
    "name": "ipython",
    "version": 3
   },
   "file_extension": ".py",
   "mimetype": "text/x-python",
   "name": "python",
   "nbconvert_exporter": "python",
   "pygments_lexer": "ipython3",
   "version": "3.9.1"
  }
 },
 "nbformat": 4,
 "nbformat_minor": 5
}
