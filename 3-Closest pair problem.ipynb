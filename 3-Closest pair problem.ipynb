{
 "cells": [
  {
   "cell_type": "markdown",
   "id": "adjustable-softball",
   "metadata": {},
   "source": [
    "Closest pair problem - The closest pair of points problem or closest pair problem is a problem of computational geometry: \n",
    "    \n",
    "given n points in metric space, find a pair of points with the smallest distance between them.\n"
   ]
  },
  {
   "cell_type": "code",
   "execution_count": 71,
   "id": "little-plant",
   "metadata": {},
   "outputs": [],
   "source": [
    "import math\n",
    "from math import *\n",
    "\n",
    "def closest_pair(alista):\n",
    "    \n",
    "    pointss=dict()\n",
    "    \n",
    "    for i in range(0,len(alista)-1):\n",
    "        \n",
    "        distance=[]\n",
    "        for j in range(i+1,len(alista)):\n",
    "            #print(alista[i],alista[j])\n",
    "            distance.append(sqrt((alista[j][0]-alista[i][0])**2 + (alista[j][1]-alista[i][1])**2))\n",
    "            \n",
    "        print(distance)\n",
    "        pointss[(i,distance.index(min(distance))+i+1)]=min(distance)\n",
    "    minimum=min(pointss,key=pointss.get)\n",
    "    print(\"The closest pair of points is {} and distance is {}\".format(minimum,pointss[minimum]))\n",
    "            \n",
    "    return pointss,minimum\n",
    "        "
   ]
  },
  {
   "cell_type": "code",
   "execution_count": 74,
   "id": "indirect-story",
   "metadata": {},
   "outputs": [],
   "source": [
    "parovi=[(-13,14),(25,-36),(-1005,509),(1,2),(48,56)]"
   ]
  },
  {
   "cell_type": "code",
   "execution_count": 75,
   "id": "widespread-paraguay",
   "metadata": {},
   "outputs": [
    {
     "name": "stdout",
     "output_type": "stream",
     "text": [
      "[62.80127387243033, 1108.642864045947, 18.439088914585774, 74.06078584514209]\n",
      "[1165.3003904573275, 44.94441010848846, 94.83142938920619]\n",
      "[1126.5367282072964, 1146.3062418045188]\n",
      "[71.58910531638176]\n",
      "The closest pair of points is (0, 3) and distance is 18.439088914585774\n"
     ]
    },
    {
     "data": {
      "text/plain": [
       "({(0, 3): 18.439088914585774,\n",
       "  (1, 3): 44.94441010848846,\n",
       "  (2, 3): 1126.5367282072964,\n",
       "  (3, 4): 71.58910531638176},\n",
       " (0, 3))"
      ]
     },
     "execution_count": 75,
     "metadata": {},
     "output_type": "execute_result"
    }
   ],
   "source": [
    "closest_pair(parovi)"
   ]
  },
  {
   "cell_type": "code",
   "execution_count": null,
   "id": "featured-accuracy",
   "metadata": {},
   "outputs": [],
   "source": []
  },
  {
   "cell_type": "code",
   "execution_count": null,
   "id": "effective-adapter",
   "metadata": {},
   "outputs": [],
   "source": []
  }
 ],
 "metadata": {
  "kernelspec": {
   "display_name": "Python 3",
   "language": "python",
   "name": "python3"
  },
  "language_info": {
   "codemirror_mode": {
    "name": "ipython",
    "version": 3
   },
   "file_extension": ".py",
   "mimetype": "text/x-python",
   "name": "python",
   "nbconvert_exporter": "python",
   "pygments_lexer": "ipython3",
   "version": "3.9.1"
  }
 },
 "nbformat": 4,
 "nbformat_minor": 5
}
